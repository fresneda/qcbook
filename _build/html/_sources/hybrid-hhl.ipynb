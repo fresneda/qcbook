{
 "cells": [
  {
   "cell_type": "markdown",
   "id": "678f7b01-fcc5-4bad-878a-27012197f55a",
   "metadata": {},
   "source": [
    "---\n",
    "HHL algorithm\n",
    "---\n",
    "\n",
    "# Overview\n",
    "\n",
    "We will discuss a hybrid classical-quantum algorithm to solve the linear\n",
    "system of equations $$Ax=b\\,,\\label{eq:linear-sytem}$$ where\n",
    "$A\\in\\mathcal{M}_{N}\\left(\\mathbb{C}\\right)$ is a complex matrix of\n",
    "order $N$, following the HHL algorithm.\n",
    "\n",
    "Without lost of generality, we will assume that\n",
    "$\\left\\Vert b\\right\\Vert =1$ where\n",
    "$\\left\\Vert b\\right\\Vert =\\sqrt{b^{*}b}$ is the usual hermitian norm in\n",
    "$\\mathbb{C}^{N}$ ($b^{*}$ is the conjugate transpose of $b$), and that\n",
    "$A$ is hermitian, $A=A^{*}$. The first assumption can be made by simply\n",
    "rescaling of the solution by $\\left\\Vert b\\right\\Vert$, while the second\n",
    "assumption be realized in terms of the system $$\\left(\\begin{array}{cc}\n",
    "0 & A\\\\\n",
    "A^{*} & 0\n",
    "\\end{array}\\right)\\left(\\begin{array}{c}\n",
    "0\\\\\n",
    "x\n",
    "\\end{array}\\right)=\\left(\\begin{array}{c}\n",
    "b\\\\\n",
    "0\n",
    "\\end{array}\\right)$$ which is equivalent to $Ax=b$ and has an hermitian\n",
    "coefficient matrix.\n",
    "\n",
    "Let us further assume that $A$ is invertible, that is, the linear system\n",
    "$Ax=b$ has the unique solution $x=A^{-1}b$. This is equivalent to the\n",
    "assumption that all eigenvalues of $A$ are non-zero. By the spectral\n",
    "theorem for hermitian matrices, the eigenvalues\n",
    "$\\lambda_{0}$,\\...,$\\lambda_{N-1}$ of $A$ lie in the compact set\n",
    "$\\left[\\lambda_{min},\\lambda_{max}\\right]\\subset\\mathbb{R}$ with\n",
    "$\\lambda_{min}>0$. In addition, $A$ has an orthonormal basis of\n",
    "eigenvectors\n",
    "$\\left\\{ \\left|v_{0}\\right\\rangle ,...,\\left|v_{N-1}\\right\\rangle \\right\\}$,\n",
    "which allows $A$ to be written in terms of the orthogonal projection\n",
    "operators\n",
    "$$A=\\sum_{i=0}^{N-1}\\lambda_{i}\\left|v_{i}\\right\\rangle \\left\\langle v_{i}\\right|\\,.$$\n",
    "Likewise, the inverse matrix $A^{-1}$ can be written as\n",
    "$$A^{-1}=\\sum_{i=0}^{N-1}\\lambda_{i}^{-1}\\left|v_{i}\\right\\rangle \\left\\langle v_{i}\\right|\\,,$$\n",
    "so for $b$ given by the linear combination\n",
    "$$b=\\sum_{i=0}^{N-1}b_{i}\\left|v_{i}\\right\\rangle$$ the solution to the\n",
    "system $Ax=b$ is given by\n",
    "$$x=A^{-1}b=\\sum_{i=0}^{N-1}\\frac{b_{i}}{\\lambda_{i}}v_{i}\\label{eq:solution}$$\n",
    "Thus, the problem of finding the solution of $Ax=b$ reduces to the\n",
    "problem of diagonalizing $A$, or rather, of finding its eigenvalues.\n",
    "\n",
    "# Pre-processing\n",
    "\n",
    "In order to express this problem in terms of an $n$-qubit quantum\n",
    "system, we need to extend $A$ to a $2^{n}\\times2^{n}$ matrix by\n",
    "completing it with the identity, so the linear system becomes\n",
    "$$\\left(\\begin{array}{cc}\n",
    "A & 0\\\\\n",
    "0 & I\n",
    "\\end{array}\\right)\\left(\\begin{array}{c}\n",
    "x\\\\\n",
    "0\n",
    "\\end{array}\\right)=\\left(\\begin{array}{c}\n",
    "b\\\\\n",
    "0\n",
    "\\end{array}\\right)$$ For instance, if\n",
    "$A\\in M_{3}\\left(\\mathbb{C}\\right)$, then we consider the alternative\n",
    "system $$\\left(\\begin{array}{cc}\n",
    "A & 0\\\\\n",
    "0 & 1\n",
    "\\end{array}\\right)\\left(\\begin{array}{c}\n",
    "x\\\\\n",
    "0\n",
    "\\end{array}\\right)=\\left(\\begin{array}{c}\n",
    "b\\\\\n",
    "0\n",
    "\\end{array}\\right)\\,,$$ where the coefficient matrix is now of order\n",
    "$2^{2}$.\n",
    "\n",
    "Another key adaptation for a quantum system is the necessity of having\n",
    "the eigenvalues in the interval $\\left(0,1\\right]$. This can be\n",
    "accomplished by rescaling and shifting the spectrum of $A$. However, it\n",
    "is important to accomplish this without prior knowledge of the point\n",
    "spectrum of $A$. This can be achieved by considering the spectral radius\n",
    "$\\rho\\left(A\\right)$ of $A$, which is defined by\n",
    "$$\\rho\\left(A\\right)=\\max\\left\\{ \\left|\\lambda_{1}\\right|,...,\\left|\\lambda_{n}\\right|\\right\\} \\,.$$\n",
    "Because $\\rho\\left(A\\right)\\leq\\left\\Vert A\\right\\Vert$ for any operator\n",
    "norm $\\left\\Vert \\cdot\\right\\Vert$, we can choose a convenient matrix\n",
    "norm, such as the maximum absolute row sum,\n",
    "$$\\rho\\equiv\\left\\Vert A\\right\\Vert _{\\infty}=\\max_{1\\leq i\\leq N}\\left\\{ \\sum_{j=1}^{N}\\left|a_{ij}\\right|\\right\\}$$\n",
    "so that\n",
    "$spec\\left(A\\right)=\\left[\\lambda_{min},\\lambda_{max}\\right]\\subset\\left[-\\rho,\\rho\\right]$.\n",
    "Consider the matrix $$\\tilde{A}=\\Omega\\left(A+\\omega I\\right)$$ where\n",
    "$\\Omega>0$ and $\\omega$ are real numbers. The eigenvalues of $\\tilde{A}$\n",
    "are the $\\tilde{\\lambda}$ roots of the characteristic polynomial\n",
    "$$\\det\\left(\\tilde{A}-\\tilde{\\lambda}I\\right)=\\det\\left(\\Omega\\left(A+\\omega I\\right)-\\tilde{\\lambda}I\\right)=\\Omega^{N}\\det\\left(A+\\omega-\\frac{\\tilde{\\lambda}}{\\Omega}\\right)\\,.$$\n",
    "The last determinant tells us that\n",
    "$$\\lambda=\\frac{\\tilde{\\lambda}}{\\Omega}-\\omega\\Leftrightarrow\\tilde{\\lambda}=\\Omega\\left(\\omega+\\lambda\\right)\\label{eq:eigenvalue}$$\n",
    "are the eigenvalues of $A$, so we find a relation between the spectrum\n",
    "of $A$ and that of $\\tilde{A}$. Let us now impose the condition that the\n",
    "spectrum of $\\tilde{A}$ is in $\\left(0,1\\right]$: $$\\begin{aligned}\n",
    "\\tilde{\\lambda}\\left(\\lambda=-\\rho\\right) & =\\Omega\\left(\\omega-\\rho\\right)=\\frac{1}{2^{k}}\\\\\n",
    "\\tilde{\\lambda}\\left(\\lambda=\\rho\\right) & =\\Omega\\left(\\omega+\\rho\\right)=1-\\frac{1}{2^{k}}\\end{aligned}$$\n",
    "for integer $k>1$. The solution for any $k$ is\n",
    "$$\\Omega=\\left(\\frac{1}{2}-\\frac{1}{2^{k}}\\right)\\rho^{-1}\\,,\\,\\,\\omega=\\frac{1}{1-2^{1-k}}\\rho$$\n",
    "\n",
    "For instance, consider the Hadamard matrix\n",
    "$$H=\\frac{1}{\\sqrt{2}}\\left(\\begin{array}{cc}\n",
    "1 & 1\\\\\n",
    "1 & -1\n",
    "\\end{array}\\right)\\,.$$ It is hermitian and\n",
    "$\\left\\Vert H\\right\\Vert _{\\infty}=\\sqrt{2}$, so\n",
    "$spec\\left(H\\right)\\subset\\left[-\\sqrt{2},\\sqrt{2}\\right]$, which is\n",
    "true, of course, since its eigenvalues are $\\pm1$. For $k=2$, we have\n",
    "$\\Omega=\\sqrt{2}/8$ and $\\omega=2\\sqrt{2}$, so\n",
    "$$\\tilde{H}=\\Omega\\left(H+\\omega I\\right)=\\frac{1}{8}\\left(\\begin{array}{cc}\n",
    "5 & 1\\\\\n",
    "1 & 3\n",
    "\\end{array}\\right)\\,.$$ One can check that the eigenvalues of\n",
    "$\\tilde{H}$ are $\\frac{1}{8}\\left(4\\pm\\sqrt{2}\\right)$, so\n",
    "$spec\\left(\\tilde{H}\\right)\\subset\\left[\\frac{1}{4},\\frac{3}{4}\\right]\\subset\\left(0,1\\right]$.\n",
    "\n",
    "Finally, it is important to notice that the eigenvector of $A$ belonging\n",
    "to the eigenvalue $\\lambda$ is also an eigenvector of $\\tilde{A}$\n",
    "belonging to $\\tilde{\\lambda}$. In fact,\n",
    "\n",
    "$$\\tilde{A}\\left|v\\right\\rangle =\\tilde{\\lambda}\\left|v\\right\\rangle \\Leftrightarrow A\\left|v\\right\\rangle =\\frac{1}{\\Omega}\\left(\\tilde{\\lambda}-\\Omega\\omega\\right)\\left|v\\right\\rangle =\\lambda\\left|v\\right\\rangle $$\n",
    "\n",
    "Therefore, from the solution\n",
    "$$\\tilde{x}=\\tilde{A}^{-1}b=\\sum_{i}\\frac{b_{i}}{\\tilde{\\lambda}_{i}}\\left|v_{i}\\right\\rangle$$\n",
    "we get the solution\n",
    "$$x=A^{-1}b=\\sum_{i}\\frac{b_{i}}{\\lambda_{i}}\\left|v_{i}\\right\\rangle$$\n",
    "by simple replacement of each $\\tilde{\\lambda}_{i}$ for $\\lambda_{i}$,\n",
    "according to ([\\[eq:eigenvalue\\]](#eq:eigenvalue){reference-type=\"ref\"\n",
    "reference=\"eq:eigenvalue\"}).\n",
    "\n",
    "# hybrid HHL\n",
    "\n",
    "Suppose all the necessary pre-processing has been deatlt with, and we\n",
    "are to apply HHL to the linear system\n",
    "([\\[eq:linear-sytem\\]](#eq:linear-sytem){reference-type=\"ref\"\n",
    "reference=\"eq:linear-sytem\"}) where $A$ is an hermitian matrix of order\n",
    "$2^{n}$, whose eigenvalues lie in the interval $\\left(0,1\\right]$.\n",
    "\n",
    "Since we can only implement unitary transformations, we consider instead\n",
    "the unitary matrix $U=e^{2\\pi iA}$, whose eigenvalues are\n",
    "$e^{2\\pi i\\lambda_{i}}$, $i=0,...,N-1$. So let's say we have prepared a\n",
    "$n$-qubit state $\\left|v\\right\\rangle$ which is an eigenstate of $A$\n",
    "with eigenvalue $\\lambda$, so\n",
    "$$U\\left|v\\right\\rangle =e^{2\\pi i\\lambda}\\left|v\\right\\rangle \\,.$$ We\n",
    "then apply the Quantum Phase Estimation (QPE) algorithm to the state\n",
    "$\\left|v\\right\\rangle \\otimes\\left|0\\right\\rangle ^{\\otimes t}$, where\n",
    "$\\left|0\\right\\rangle ^{\\otimes t}$ is a second quantum register with\n",
    "$t$ qubits. The result is\n",
    "$$\\left|v\\right\\rangle \\otimes\\left|0\\right\\rangle ^{\\otimes t}\\overset{QPE}{\\mapsto}\\left|v\\right\\rangle \\otimes\\left|\\tilde{\\lambda}\\right\\rangle$$\n",
    "where $\\left|\\tilde{\\lambda}\\right\\rangle$ is the state which outputs\n",
    "$\\lambda$ when measured with the accuracy of $t$ qubits, that is,\n",
    "$\\tilde{\\lambda}$ is an approximation of $\\lambda$ with $t$ bits of\n",
    "accuracy. So one would measure $\\lambda$ exactly if $2^{t}\\lambda$ is an\n",
    "integer. If we apply QPE to the state\n",
    "$\\left|b\\right\\rangle \\left|0\\right\\rangle$, then we should arrive at\n",
    "$$\\left|b\\right\\rangle \\left|0\\right\\rangle ^{\\otimes t}=\\sum_{i=0}^{N-1}b_{i}\\left|v_{i}\\right\\rangle \\left|0\\right\\rangle ^{\\otimes t}\\overset{QPE}{\\mapsto}\\sum_{i=0}^{N-1}b_{i}\\left|v_{i}\\right\\rangle \\left|\\tilde{\\lambda}_{i}\\right\\rangle$$\n",
    "where $\\tilde{\\lambda}_{i}$ is the $t$-bit approximation for the\n",
    "eigenvalue $\\lambda_{i}$.\n",
    "\n",
    "The next step is to get the reciprocals of the eigenvalues, which appear\n",
    "in the solution of the linear system\n",
    "([\\[eq:solution\\]](#eq:solution){reference-type=\"ref\"\n",
    "reference=\"eq:solution\"}). The idea is to introduce an auxiliar qubit\n",
    "$\\left|0\\right\\rangle$ and perform a $y$-rotation $R_{y}$ by an\n",
    "appropriate angle $\\theta$. Since\n",
    "$$R_{y}\\left(\\theta\\right)\\left|0\\right\\rangle =\\cos\\frac{\\theta}{2}\\left|0\\right\\rangle +\\sin\\frac{\\theta}{2}\\left|1\\right\\rangle$$\n",
    "we need $\\theta$ to be $2\\arcsin f\\left(\\lambda\\right)$ (we could also\n",
    "work with $\\arccos$), where\n",
    "$f\\left(\\lambda\\right)=\\frac{\\Lambda}{\\lambda}$ and $\\Lambda$ is a\n",
    "scaling parameter. In this way,\n",
    "$$R_{y}\\left(2\\arcsin\\frac{\\Lambda}{\\lambda}\\right)=\\sqrt{1-\\frac{\\Lambda^{2}}{\\lambda^{2}}}\\left|0\\right\\rangle +\\frac{\\Lambda}{\\lambda}\\left|1\\right\\rangle$$\n",
    "and by measuring the auxiliar qubit we can find the reciprocal of the\n",
    "eigenvalue, up to a scaling factor. Since all eigenvalues belong to\n",
    "$\\left[\\lambda_{min},\\lambda_{max}\\right]$,\n",
    "$\\lambda\\in\\left[\\lambda_{min},\\lambda_{max}\\right]$, and so\n",
    "$\\frac{\\Lambda}{\\lambda}\\in\\left[\\frac{\\Lambda}{\\lambda_{max}},\\frac{\\Lambda}{\\lambda_{min}}\\right]$.\n",
    "In order to use the function $\\arccos$ must choose the scale $\\Lambda$\n",
    "so that\n",
    "$\\left[\\frac{\\Lambda}{\\lambda_{max}},\\frac{\\Lambda}{\\lambda_{min}}\\right]$\n",
    "fits the domain of $\\arcsin$. This can by accomplished by rescaling by\n",
    "$\\Lambda\\leq\\lambda_{min}$, so we get\n",
    "$\\left[\\frac{\\Lambda}{\\lambda_{max}},\\frac{\\Lambda}{\\lambda_{min}}\\right]=\\left[\\frac{\\lambda_{min}}{\\lambda_{max}},1\\right]\\subset\\left(0,1\\right]$.\n",
    "This means\n",
    "$\\arcsin\\left(\\frac{\\Lambda}{\\lambda}\\right)\\in\\left(0,\\frac{\\pi}{2}\\right]$,\n",
    "or equivalently,\n",
    "$\\frac{2}{\\pi}\\arcsin\\left(\\frac{\\Lambda}{\\lambda}\\right)\\in\\left(0,1\\right]$.\n",
    "\n",
    "Therefore, if we could apply rotations\n",
    "$R_{y}\\left(2\\arcsin\\frac{\\Lambda}{\\lambda_{i}}\\right)$ to the auxiliar\n",
    "qubit, conditioned on the register\n",
    "$\\left|\\tilde{\\lambda}_{i}\\right\\rangle$, we would get the desired\n",
    "result of inverting the eigenvalues, and arrive at the state\n",
    "$$\\sum_{i=0}^{N-1}b_{i}\\left(\\sqrt{1-\\frac{\\Lambda^{2}}{\\lambda_{i}^{2}}}\\left|0\\right\\rangle +\\frac{\\Lambda}{\\lambda_{i}}\\left|1\\right\\rangle \\right)\\left|v_{i}\\right\\rangle \\left|\\tilde{\\lambda}_{i}\\right\\rangle$$\n",
    "The final step is to apply the inverse QPE to bring back the register\n",
    "$\\left|\\tilde{\\lambda}_{i}\\right\\rangle$ to\n",
    "$\\left|0\\right\\rangle ^{\\otimes t}$:\n",
    "$$\\sum_{i=0}^{N-1}b_{i}\\left(\\sqrt{1-\\frac{\\Lambda^{2}}{\\lambda_{i}^{2}}}\\left|0\\right\\rangle +\\frac{\\Lambda}{\\lambda_{i}}\\left|1\\right\\rangle \\right)\\left|v_{i}\\right\\rangle \\left|\\tilde{\\lambda}_{i}\\right\\rangle \\overset{QPE^{\\dagger}}{\\mapsto}\\sum_{i=0}^{N-1}b_{i}\\left(\\sqrt{1-\\frac{\\Lambda^{2}}{\\lambda_{i}^{2}}}\\left|0\\right\\rangle +\\frac{\\Lambda}{\\lambda_{i}}\\left|1\\right\\rangle \\right)\\left|v_{i}\\right\\rangle \\left|0\\right\\rangle ^{\\otimes t}$$\n",
    "Now, measurement values of $1$ of the auxiliar qubit will result in the\n",
    "state\n",
    "$$\\sum_{i=0}^{N-1}b_{i}\\frac{\\Lambda}{\\lambda_{i}}\\left|1\\right\\rangle \\left|v_{i}\\right\\rangle \\left|0\\right\\rangle ^{\\otimes t}$$\n",
    "\n",
    "A solution to the problem of efficiently implementing a quantum circuit\n",
    "to perform eigenvalue inversion does not seem to be a hand. In\n",
    "([ref1](https://arxiv.org/abs/1207.2485)), the eigenvalue inversion is\n",
    "done using a combination of Newton's method and bissection, while\n",
    "([ref2](https://arxiv.org/pdf/2009.04484.pdf)) and\n",
    "([ref3](https://arxiv.org/pdf/1805.12445.pdf)) use piecewise polynomial\n",
    "approximation to approximate $\\arcsin$. We will adopt a third approach,\n",
    "which is a hybrid approach, and involves first measuring the QPE circuit\n",
    "multiple times to get a probability distribution of the eigenvalues.\n",
    "Having computed the eigenvalues, we can apply the rotations controlled\n",
    "rotations having the eigenvalues as control. To see how this works, let\n",
    "the first measured eigenvalue be $\\lambda_{1}$, which is stored in\n",
    "$\\left|\\lambda_{1}\\right\\rangle$. So we apply a controlled rotation\n",
    "$Ry\\left(2\\arcsin\\frac{\\Lambda}{\\lambda_{1}}\\right)$ to the target\n",
    "qubit, whose control bits are the bits of the measured eigenvalue\n",
    "$\\lambda_{1}$. Repeat for each measured eigenvalue, and we are done.\n",
    "\n",
    "Putting everything together, we have $$\\begin{aligned}\n",
    "\\left|0\\right\\rangle \\left|b\\right\\rangle \\left|0\\right\\rangle ^{\\otimes t}\\overset{QPE}{\\mapsto}\\sum_{i=0}^{N-1}b_{i}\\left|0\\right\\rangle \\left|v_{i}\\right\\rangle \\left|\\tilde{\\lambda}_{i}\\right\\rangle  & \\overset{R_{y}}{\\mapsto}\\sum_{i=0}^{N-1}b_{i}\\left(\\sqrt{1-\\frac{\\Lambda^{2}}{\\lambda_{i}^{2}}}\\left|0\\right\\rangle +\\frac{\\Lambda}{\\lambda_{i}}\\left|1\\right\\rangle \\right)\\left|v_{i}\\right\\rangle \\left|\\tilde{\\lambda}_{i}\\right\\rangle \\\\\n",
    " & \\overset{QPE^{\\dagger}}{\\mapsto}\\sum_{i=0}^{N-1}b_{i}\\left(\\sqrt{1-\\frac{\\Lambda^{2}}{\\lambda_{i}^{2}}}\\left|0\\right\\rangle +\\frac{\\Lambda}{\\lambda_{i}}\\left|1\\right\\rangle \\right)\\left|v_{i}\\right\\rangle \\left|0\\right\\rangle ^{\\otimes t}\\\\\n",
    " & \\overset{measurement}{\\mapsto}\\sum_{i=0}^{N-1}b_{i}\\frac{\\Lambda}{\\lambda_{i}}\\left|1\\right\\rangle \\left|v_{i}\\right\\rangle \\left|0\\right\\rangle ^{\\otimes t}\\end{aligned}$$"
   ]
  },
  {
   "cell_type": "markdown",
   "id": "0fca3326-4505-4e33-a9d3-de85b5943943",
   "metadata": {},
   "source": [
    "Our first task is to create the functions responsible for shifting the operator $A$ so that its eigenvalues are in $(0,1]$, \n",
    "and to calculate the eigenvalues of $A$ for known eigenvalues of the shifted operator."
   ]
  },
  {
   "cell_type": "code",
   "execution_count": 1,
   "id": "68b2f471-4333-4c51-b83a-0317d29de02c",
   "metadata": {},
   "outputs": [],
   "source": [
    "import numpy as np\n",
    "\n",
    "# given a complex hermitian matrix A, we calculate an upper bound for its spectral radius\n",
    "#and use it to define a new shifted operator B so that spec(B) \\subset [1/2^k,1-1/2^k] for k>1\n",
    "\n",
    "def shiftop(A,k):\n",
    "    #get number of rows of A\n",
    "    N = A.shape[0]\n",
    "    #calculate p=infty norm\n",
    "    rho = np.linalg.norm(A,np.inf)\n",
    "    Omega = (1/2 - 1/2**k)*1/rho\n",
    "    omega = 1/(1-2**(-k+1))*rho\n",
    "    shiftA = Omega * (A + omega*np.identity(N))\n",
    "    return shiftA,omega,Omega \n",
    "\n",
    "#calculate eigenvalues of A based on eigenvalues of shiftA\n",
    "def eigenvals( eigAshift,omega,Omega):\n",
    "    #eigAshift is array of eigenvalues of Ashift\n",
    "    lamb = eigAshift/Omega - omega\n",
    "    return lamb\n",
    "    \n",
    "    "
   ]
  },
  {
   "cell_type": "markdown",
   "id": "1147a770-e638-4279-8e93-5454eb09fa48",
   "metadata": {},
   "source": [
    "As a simple example, let us take the Hadamard operator on $\\mathbb{C}^2$ as A, and obtain the corresponding shifted operator. "
   ]
  },
  {
   "cell_type": "code",
   "execution_count": 2,
   "id": "89a73264-d33b-4e0b-bed7-9908b49d8105",
   "metadata": {},
   "outputs": [
    {
     "name": "stdout",
     "output_type": "stream",
     "text": [
      "The eigenvalues of the Hadamard operator are:  [ 1.+0.j -1.+0.j]\n"
     ]
    }
   ],
   "source": [
    "#test for hadamard\n",
    "H = 1/np.sqrt(2)*np.array([[1,1],[1,-1]], dtype=np.complex128)\n",
    "shiftH,omega,Omega = shiftop(H,2)\n",
    "eigHshift = np.linalg.eigvals(shiftH)\n",
    "print(\"The eigenvalues of the Hadamard operator are: \",eigenvals(eigHshift,omega,Omega))\n"
   ]
  },
  {
   "cell_type": "markdown",
   "id": "5a75a1c9-3a78-4be8-826d-1bc770149265",
   "metadata": {},
   "source": [
    "In the following we create the controlled unitary operator used in the QPE subroutine. "
   ]
  },
  {
   "cell_type": "code",
   "execution_count": 3,
   "id": "a86587f8-f244-4af0-8e41-f9a8d29d03e2",
   "metadata": {},
   "outputs": [],
   "source": [
    "#create controlled unitary U = exp(2\\pi i shiftH)\n",
    "from qiskit.extensions import HamiltonianGate\n",
    "shiftopgate = HamiltonianGate(shiftH,-2*np.pi).control()\n"
   ]
  },
  {
   "cell_type": "markdown",
   "id": "63a9329a-f2e6-41dc-98e4-2c37fd278cf2",
   "metadata": {},
   "source": [
    "Now we put everything together to obtain the aproximate values of the eigenvalues of the shifted operator, using QPE."
   ]
  },
  {
   "cell_type": "code",
   "execution_count": 4,
   "id": "7ba5f5a0-f8ac-4f87-9c7b-21859f77a297",
   "metadata": {},
   "outputs": [
    {
     "data": {
      "text/plain": [
       "<qiskit.circuit.instructionset.InstructionSet at 0x7f89e1043f10>"
      ]
     },
     "execution_count": 4,
     "metadata": {},
     "output_type": "execute_result"
    }
   ],
   "source": [
    "#run QPE for hadamard with b=|0> and controlled U\n",
    "from qiskit import QuantumCircuit, QuantumRegister, ClassicalRegister, Aer, transpile\n",
    "from qiskit.circuit.library import StatePreparation, RYGate\n",
    "from qiskit.circuit import ControlledGate\n",
    "from qiskit.visualization import plot_histogram\n",
    "\n",
    "\n",
    "#dft circuit with n qubits\n",
    "def dft(n):\n",
    "    dftcirc = QuantumCircuit(n)\n",
    "    #make the rotations\n",
    "    for k in range(n-1,-1,-1):\n",
    "        dftcirc.h(k)\n",
    "        p=2\n",
    "        for l in range(k-1,-1,-1):\n",
    "            dftcirc.cp(2*np.pi/2**p,l,k)\n",
    "            p+=1\n",
    "        dftcirc.barrier()\n",
    "    #now we make the swap operations\n",
    "    for qubit in range(n//2):\n",
    "        dftcirc.swap(qubit, n-qubit-1)\n",
    "    return dftcirc\n",
    "\n",
    "#qpe circuit\n",
    "#t counting bits\n",
    "# eigenvector array \"eigenvector\"\n",
    "# controlled unitary gate \"unitary\"\n",
    "\n",
    "def qpe(t,eigenvector,unitary):\n",
    "    U = unitary\n",
    "    eigenv = eigenvector/np.linalg.norm(eigenvector)\n",
    "    cqbits = QuantumRegister(t, name=\"counting qubits\")\n",
    "    psi = QuantumRegister(1,name=\"psi\")\n",
    "    qpe = QuantumCircuit(cqbits,psi)\n",
    "    #we initalize the state psi to eigenv\n",
    "    bstate = StatePreparation(eigenv)\n",
    "    qpe.append(bstate,psi)\n",
    "    #we apply the Hadamard gates to the counting qubits\n",
    "    qpe.h(cqbits)\n",
    "    #Now we apply the controlled Unitary gates\n",
    "    repetitions = 1\n",
    "    for counting_qubits in range(t):\n",
    "        for i in range(repetitions):\n",
    "            qpe.append(U,[cqbits[counting_qubits], psi])   #controlled U \n",
    "        repetitions *= 2\n",
    "   \n",
    "    #now we apply the inverse DFT\n",
    "    qpe.append(dft(t).inverse(),cqbits)\n",
    "    \n",
    "    return qpe, cqbits\n",
    "\n",
    "#define precison = size of counting bits register\n",
    "t=10\n",
    "\n",
    "b = np.array([1,0])\n",
    "#create circuit\n",
    "qpeqc, cqbits = qpe(t,b,shiftopgate)\n",
    "#measure\n",
    "mbits = ClassicalRegister(t,name=\"measure bits\")\n",
    "qpeqc.add_register(mbits)\n",
    "qpeqc.measure(cqbits,mbits)\n",
    "\n",
    "\n"
   ]
  },
  {
   "cell_type": "markdown",
   "id": "5eeb263c-0640-4b44-a69e-9e468ff08e75",
   "metadata": {},
   "source": [
    "Now we run the circuit in a simulator to get statistics. From the results we are able to obtain the aproximate values \n",
    "of the eigenvectors of the shifted operator. "
   ]
  },
  {
   "cell_type": "code",
   "execution_count": 5,
   "id": "160ce596-760e-443c-8e0d-c1ae88505a2a",
   "metadata": {},
   "outputs": [
    {
     "data": {
      "image/png": "[encoded data removed]",
      "text/plain": [
       "<Figure size 700x500 with 1 Axes>"
      ]
     },
     "execution_count": 5,
     "metadata": {},
     "output_type": "execute_result"
    }
   ],
   "source": [
    "aer_sim = Aer.get_backend('aer_simulator')\n",
    "shots = 2048\n",
    "t_qpe = transpile(qpeqc, aer_sim)\n",
    "results = aer_sim.run(t_qpe, shots=shots).result()\n",
    "answer = results.get_counts()\n",
    "\n",
    "plot_histogram(answer)"
   ]
  },
  {
   "cell_type": "code",
   "execution_count": 6,
   "id": "bdb6fcc4-19f1-46ea-a90c-4906f083f8e5",
   "metadata": {},
   "outputs": [
    {
     "name": "stdout",
     "output_type": "stream",
     "text": [
      "The eigenvalues of the Hadamard operator are:  0.9998931827716024 and  -0.9998931827716022\n"
     ]
    }
   ],
   "source": [
    "#we get the eigenvalues from the probability distribution\n",
    "#get eigenvalues corresponding to highest counts\n",
    "sorted_list = sorted(answer.items(), key = lambda x:x[1] , reverse = True)\n",
    "[phi1,phi2] = [2**(-t)*int(sorted_list[0][0],2),2**(-t)*int(sorted_list[1][0],2)]\n",
    "#convert back to eigenvalues of H\n",
    "[lambda1,lambda2]=  [phi1/Omega - omega,phi2/Omega-omega]\n",
    "#we also need the binaries for phi1 and phi2\n",
    "[phi1b,phi2b] = [sorted_list[0][0],sorted_list[1][0]]\n",
    "print(\"The eigenvalues of the Hadamard operator are: \",lambda1,\"and \",lambda2)"
   ]
  },
  {
   "cell_type": "markdown",
   "id": "bb904d7c-a27a-4e03-8e7f-335366d509e8",
   "metadata": {},
   "source": [
    "Now that we have the eigenvalues for the Hadamard operator, we can run the HHL algorithm.\n",
    "First we create a circuit with three quantum registers: the counting qubits for QPE, \n",
    "the qubits which encode the rotation angles $2\\arcsin{(\\Lambda/\\lambda)}$ and the target qubit for the rotations.\n"
   ]
  },
  {
   "cell_type": "code",
   "execution_count": 7,
   "id": "0d042bd5-949f-43f7-b7a1-89a650b14ff1",
   "metadata": {},
   "outputs": [
    {
     "data": {
      "text/plain": [
       "<qiskit.circuit.instructionset.InstructionSet at 0x7f89db0b8400>"
      ]
     },
     "execution_count": 7,
     "metadata": {},
     "output_type": "execute_result"
    }
   ],
   "source": [
    "qpeqc, cqbits = qpe(t,b,shiftopgate)\n",
    "\n",
    "targetbit = QuantumRegister(1,name=\"target bit\")\n",
    "cqbits = QuantumRegister(t)\n",
    "psi    = QuantumRegister(1)\n",
    "\n",
    "hhlqc = QuantumCircuit(cqbits,targetbit,psi)\n",
    "hhlqc.append(qpeqc, cqbits[:] + psi[:])\n",
    "hhlqc.barrier()\n",
    "\n",
    "#define rotation angles and Lambda\n",
    "Lambda = np.minimum(lambda1,lambda2)\n",
    "theta = [2*np.arcsin(Lambda/lambda1),2*np.arcsin(Lambda/lambda2)]\n",
    "\n",
    "#rotate the target bit controlled by the cqbits register\n",
    "ry1 = RYGate(theta[0]).control(num_ctrl_qubits=t,  ctrl_state=phi1b)\n",
    "ry2 = RYGate(theta[1]).control(num_ctrl_qubits=t,  ctrl_state=phi2b)\n",
    "hhlqc.append(ry1, cqbits[:]+targetbit[:])\n",
    "hhlqc.append(ry2, cqbits[:]+targetbit[:])\n",
    "hhlqc.barrier()\n",
    "\n",
    "#apply inverse QPE\n",
    "hhlqc.append(qpeqc.inverse(), cqbits[:] + psi[:])\n",
    "\n",
    "#now we measure the target bit\n",
    "mbit = ClassicalRegister(1)\n",
    "hhlqc.add_register(mbit)\n",
    "hhlqc.barrier()\n",
    "hhlqc.measure(targetbit,mbit)\n",
    "\n",
    "#hhlqc.decompose().draw(output=\"mpl\")\n",
    "    \n",
    "    "
   ]
  },
  {
   "cell_type": "markdown",
   "id": "cc2580f9-15fa-4df9-84fd-4340242bea36",
   "metadata": {},
   "source": [
    "Finally, let us run the circuit and analyze the results."
   ]
  },
  {
   "cell_type": "code",
   "execution_count": 8,
   "id": "561738d1-9ae6-4eb7-9903-874190a7bd24",
   "metadata": {},
   "outputs": [
    {
     "data": {
      "image/png": "[encoded data removed]",
      "text/plain": [
       "<Figure size 700x500 with 1 Axes>"
      ]
     },
     "execution_count": 8,
     "metadata": {},
     "output_type": "execute_result"
    }
   ],
   "source": [
    "\n",
    "aer_sim = Aer.get_backend('aer_simulator')\n",
    "shots = 2048\n",
    "#tell the transpile not decompose custom gates\n",
    "#basis_gates =['u', 'cx', 'id','phi1gate'] \n",
    "t_hhl = transpile(hhlqc, backend=aer_sim)\n",
    "results = aer_sim.run(t_hhl, shots=shots).result()\n",
    "answer = results.get_counts()\n",
    "\n",
    "plot_histogram(answer)\n"
   ]
  },
  {
   "cell_type": "markdown",
   "id": "cd8dbd37-2707-4ed9-9719-540405a22040",
   "metadata": {},
   "source": [
    "The histogram is expected, since the eigenvalues of the H matrix are close to $\\pm$ and $\\Lambda$ is then close to $-1$. \n",
    "As a result, the state $\\sqrt{1-\\frac{\\Lambda^{2}}{\\lambda^{2}}}\\left|0\\right\\rangle +\\frac{\\Lambda}{\\lambda}\\left|1\\right\\rangle$ collapses to $\\left|1\\right\\rangle$\n",
    "In order to compare the result we obtained with the classical result, we calculate the corresponding state fidelity:"
   ]
  },
  {
   "cell_type": "code",
   "execution_count": 10,
   "id": "2cfd03b0-9bdb-4882-a65d-0bcf3d117ab0",
   "metadata": {},
   "outputs": [
    {
     "name": "stdout",
     "output_type": "stream",
     "text": [
      "The state fidelity between the solution from the  hybrid HHL algorithm and the classical solution is:  0.9994\n"
     ]
    }
   ],
   "source": [
    "\n",
    "#now let us get the state vector\n",
    "from qiskit.providers.aer import StatevectorSimulator\n",
    "from qiskit import execute\n",
    "from qiskit.quantum_info import partial_trace, state_fidelity, DensityMatrix\n",
    "simulator = Aer.get_backend('statevector_simulator')\n",
    "result = execute(hhlqc, simulator).result()\n",
    "statevector = result.get_statevector(hhlqc)\n",
    "traced_sv = partial_trace(statevector,list(range(t+1)))\n",
    "cstate = DensityMatrix(np.linalg.solve(H,b))\n",
    "print(\"The state fidelity between the solution from the  hybrid HHL algorithm and the classical solution is: \",round(state_fidelity(traced_sv,cstate),4))"
   ]
  },
  {
   "cell_type": "markdown",
   "id": "bac2f222-5753-4534-8840-4e7a1775973e",
   "metadata": {},
   "source": [
    "This means our quantum solution is in excellent agreement with the classical solution! "
   ]
  }
 ],
 "metadata": {
  "kernelspec": {
   "display_name": "qiskit",
   "language": "python",
   "name": "qiskit"
  },
  "language_info": {
   "codemirror_mode": {
    "name": "ipython",
    "version": 3
   },
   "file_extension": ".py",
   "mimetype": "text/x-python",
   "name": "python",
   "nbconvert_exporter": "python",
   "pygments_lexer": "ipython3",
   "version": "3.11.2"
  }
 },
 "nbformat": 4,
 "nbformat_minor": 5
}
