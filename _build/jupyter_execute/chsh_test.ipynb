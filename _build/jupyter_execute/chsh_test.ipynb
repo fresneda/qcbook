{
 "cells": [
  {
   "cell_type": "markdown",
   "id": "da780434",
   "metadata": {},
   "source": [
    "---\n",
    "The CHSH test\n",
    "---\n",
    "\n",
    "Bell's theorem asserts that quantum mechanics is incompatible with local\n",
    "hidden variable theories. Certain constraints on the outcome of\n",
    "measurements implied by hidden variable theories give rise to so-called\n",
    "Bell inequalities. One such inequality is the CHSH inequality, named\n",
    "after the authors Clauser, Horne, Shimony, and Holt, is used to\n",
    "experimentally prove Bell's theorem.\n",
    "\n",
    "Suppose Alice and Bob are each given a particle and they can perform on\n",
    "their respective particle one of two measurements: $A_{0}$ or $A_{1}$\n",
    "for Alice, and $B_{0}$ or $B_{1}$ for Bob. Moreover, Alice and Bob are\n",
    "sufficiently far apart so that their actions cannot influence on another\n",
    "(locality hypothesis). These measurements correspond to certain (hidden)\n",
    "properties of the particles, $a_{0}$ for $A_{0}$, $a_{1}$ for $A_{1}$\n",
    "and so forth, so that measurements of these properties always result in\n",
    "$\\pm1$. Now consider the combination\n",
    "\n",
    "$$\n",
    "C=a_{0}b_{0}+a_{0}b_{1}+a_{1}b_{0}-a_{1}b_{1}=\\left(a_{0}+a_{1}\\right)b_{0}+\\left(a_{0}-a_{1}\\right)b_{1}\\,.\n",
    "$$(combination)\n",
    "\n",
    "Note that if $a_{0}$ and $a_{1}$ have equal values, for instance,\n",
    "$a_{0}=a_{1}=1$, then the second term on the right is zero, and the\n",
    "combination $C$ is $\\pm2$. The same happens if $a_{0}$ and $a_{1}$ have\n",
    "opposite values, because then the first term on the right is zero, and\n",
    "the combination $C$ is again $\\pm2$.\n",
    "\n",
    "Now each time Alice and Bob receive their particle, they perform an\n",
    "experiment, which is one of the measurements we described. After\n",
    "repeating this experiment many times, the average value of the\n",
    "combination {eq}`combination`  will be less than $2$, and it is the sum of\n",
    "the average values of each term,\n",
    "\n",
    "$$\n",
    "\\left\\langle C\\right\\rangle =\\left\\langle a_{0}b_{0}\\right\\rangle +\\left\\langle a_{0}b_{1}\\right\\rangle +\\left\\langle a_{1}b_{0}\\right\\rangle -\\left\\langle a_{1}b_{1}\\right\\rangle \\leq2\\label{eq:CHSH}\n",
    "$$\n",
    "\n",
    "This is the CHSH inequality.\n",
    "\n",
    "In the post \"CHSH game\", we have shown how quantum mechanics can violate\n",
    "the CHSH inequality. Let us briefly state the main arguments. This time\n",
    "Alice and Bob are given each a qubit which belong to an entangled pair\n",
    "\n",
    "$$\n",
    "\\psi=\\frac{1}{\\sqrt{2}}\\left(\\left|00\\right\\rangle +\\left|11\\right\\rangle \\right)\n",
    "$$(bell-state)\n",
    "\n",
    "And they can perform on their qubit one of two operations, as before.\n",
    "These operations correspond to unitary hermitian operations acting on a\n",
    "qubit. The analog of the combination {eq}`combination` is the two-qubit operator\n",
    "\n",
    "$$\n",
    "T=A_{0}\\otimes B_{0}+A_{0}\\otimes B_{1}+A_{1}\\otimes B_{0}-A_{1}\\otimes B_{1}\n",
    "$$\n",
    "\n",
    "We showed that the average value of this operator with respect to the\n",
    "Bell state {eq}`bell-state`  is\n",
    "\n",
    "$$\n",
    "\\left\\langle T\\right\\rangle _{\\psi}\\leq2\\sqrt{2}\\,,\n",
    "$$ \n",
    "\n",
    "which can exceed the classical upper bound of $2$, deduced from the local hidden\n",
    "variables hypothesis."
   ]
  },
  {
   "cell_type": "markdown",
   "id": "7cdccde4",
   "metadata": {},
   "source": [
    "Now we will test the CHSH inequality on a real quantum computer, using the Estimator primitive."
   ]
  },
  {
   "cell_type": "code",
   "execution_count": 1,
   "id": "ec130630",
   "metadata": {},
   "outputs": [],
   "source": [
    "from qiskit import QuantumCircuit\n",
    "from qiskit.extensions import UnitaryGate\n",
    "from numpy import pi, cos, sin, sqrt\n",
    "from qiskit.quantum_info.operators import Operator\n",
    "# Runtime imports\n",
    "from qiskit_ibm_runtime import QiskitRuntimeService, Estimator, Session, Options"
   ]
  },
  {
   "cell_type": "code",
   "execution_count": 2,
   "id": "a4eb9302",
   "metadata": {},
   "outputs": [],
   "source": [
    "#First we write down the hermitian unitary matrices corresponding to the operations Alice and Bob can perform\n",
    "\n",
    "A0_matrix = [ [cos(pi/8), sin(pi/8)],[sin(pi/8),-cos(pi/8)]]\n",
    "A1_matrix = [ [cos(pi/8), -sin(pi/8)],[-sin(pi/8),-cos(pi/8)]]\n",
    "B0_matrix = [ [1, 0],[0,-1]]\n",
    "B1_matrix = [ [cos(pi/4), sin(pi/4)],[sin(pi/4),-cos(pi/4)]]"
   ]
  },
  {
   "cell_type": "code",
   "execution_count": 3,
   "id": "be687c9b",
   "metadata": {},
   "outputs": [],
   "source": [
    "#now we convert the matrices to the Operator class and take the tensor products\n",
    "\n",
    "A0 = Operator(A0_matrix)\n",
    "A1 = Operator(A1_matrix)\n",
    "B0 = Operator(B0_matrix)\n",
    "B1 = Operator(B1_matrix)\n",
    "\n",
    "A0B0 = A0.tensor(B0)\n",
    "A0B1 = A0.tensor(B1)\n",
    "A1B0 = A1.tensor(B0)\n",
    "A1B1 = A1.tensor(B1)\n",
    "\n",
    "ops = [A0B0,A0B1,A1B0,A1B1]\n"
   ]
  },
  {
   "cell_type": "code",
   "execution_count": 4,
   "id": "692504c1",
   "metadata": {},
   "outputs": [],
   "source": [
    "#Next we implement the circuit corresponding the the Bell state\n",
    "\n",
    "bellqc = QuantumCircuit(2)\n",
    "bellqc.h(0)\n",
    "bellqc.cx(0,1)\n",
    "#for each operator in ops, we apply the estimator, so we need the same number of Bell circuits:\n",
    "circuits= [bellqc]*4"
   ]
  },
  {
   "cell_type": "code",
   "execution_count": 5,
   "id": "3140aee9",
   "metadata": {},
   "outputs": [],
   "source": [
    "# Now we choose our backend and start our session\n",
    "service = QiskitRuntimeService(channel='ibm_quantum', instance=\"ibm-q-research-2/fed-uni-ufabc-1/main\", token=\"b991d7c5d1d6efcf2ec598451d82108070c330d72f3b033846e4aaecff48ae1c65575b7463772cf57e1fc8591310f30e299ed962d96f4e6de74e33d44f4db836\")\n",
    "\n",
    "# Set options, which can be overwritten at job level.\n",
    "#options = Options(optimization_level=1,resilience_level=1)\n",
    "options = Options()\n",
    "options.resilience_level=1\n",
    "options.optimization_level=1\n",
    "\n",
    "# Select the system with the fewest number of jobs in the queue\n",
    "#backend = service.least_busy(simulator=False, operational=True)\n",
    "backend = service.backend(\"ibm_lagos\")\n",
    "# Initialize your session\n",
    "session = Session(backend=backend)\n",
    "#backend.name"
   ]
  },
  {
   "cell_type": "code",
   "execution_count": 6,
   "id": "28417114",
   "metadata": {},
   "outputs": [
    {
     "name": "stderr",
     "output_type": "stream",
     "text": [
      "/home/fresneda/qiskit/lib/python3.11/site-packages/qiskit_ibm_runtime/qiskit_runtime_service.py:994: UserWarning: The backend ibm_lagos currently has a status of dedicated.\n",
      "  warnings.warn(\n"
     ]
    },
    {
     "name": "stdout",
     "output_type": "stream",
     "text": [
      ">>> Job ID: cmg6kyqdyqh0008rscmg\n"
     ]
    },
    {
     "name": "stdout",
     "output_type": "stream",
     "text": [
      ">>> Job Status: JobStatus.QUEUED\n"
     ]
    }
   ],
   "source": [
    "#Now we create our Estimator instance and run our circuits with the observables in ops\n",
    "estimator = Estimator(session=session,options=options)\n",
    "\n",
    "#calculate [<A0B0>,<A0B1>,<A1B0>,<A1B1>]\n",
    "\n",
    "job = estimator.run(circuits, ops, shots=int(1e4))\n",
    "print(f\">>> Job ID: {job.job_id()}\")\n",
    "print(f\">>> Job Status: {job.status()}\")  "
   ]
  },
  {
   "cell_type": "code",
   "execution_count": 7,
   "id": "c47eaf76",
   "metadata": {},
   "outputs": [],
   "source": [
    "#now we retrieve our results and calculate the average of the CHSH operator\n",
    "result = service.job(\"cjmbo7cvcjlre5d4oarg\").result().values\n",
    "#CHSH average\n",
    "CHSH = result[0] + result[1] + result[2] - result[3]"
   ]
  },
  {
   "cell_type": "code",
   "execution_count": 8,
   "id": "6b55be25",
   "metadata": {},
   "outputs": [
    {
     "name": "stdout",
     "output_type": "stream",
     "text": [
      "The experiment violates the CHSH inequality by 0.35101117022943606\n"
     ]
    }
   ],
   "source": [
    "#Compare with the classical upperbound 2\n",
    "\n",
    "print(\"The experiment violates the CHSH inequality by\", CHSH-2)"
   ]
  },
  {
   "cell_type": "code",
   "execution_count": 9,
   "id": "de2fcf13",
   "metadata": {},
   "outputs": [
    {
     "name": "stdout",
     "output_type": "stream",
     "text": [
      "The experiment violates the CHSH inequality by 0.3767145006894097\n"
     ]
    }
   ],
   "source": [
    "#let us compare this result with that of a simulator\n",
    "from qiskit.primitives import Estimator\n",
    "estimator = Estimator()\n",
    "job = estimator.run(circuits, ops, shots=int(1e4))\n",
    "result = job.result().values\n",
    "#CHSH average\n",
    "CHSH2 = result[0] + result[1] + result[2] - result[3]\n",
    "print(\"The experiment violates the CHSH inequality by\", CHSH2-2)"
   ]
  },
  {
   "cell_type": "code",
   "execution_count": null,
   "id": "a6131d89",
   "metadata": {},
   "outputs": [],
   "source": []
  }
 ],
 "metadata": {
  "jupytext": {
   "text_representation": {
    "extension": ".md",
    "format_name": "myst",
    "format_version": 0.13,
    "jupytext_version": "1.15.2"
   }
  },
  "kernelspec": {
   "display_name": "qiskit",
   "language": "python",
   "name": "qiskit"
  },
  "language_info": {
   "codemirror_mode": {
    "name": "ipython",
    "version": 3
   },
   "file_extension": ".py",
   "mimetype": "text/x-python",
   "name": "python",
   "nbconvert_exporter": "python",
   "pygments_lexer": "ipython3",
   "version": "3.11.2"
  },
  "source_map": [
   12,
   82,
   86,
   95,
   104,
   121,
   131,
   149,
   160,
   167,
   173,
   184
  ]
 },
 "nbformat": 4,
 "nbformat_minor": 5
}